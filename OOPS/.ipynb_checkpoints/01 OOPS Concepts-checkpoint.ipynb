{
 "cells": [
  {
   "cell_type": "markdown",
   "id": "78f27b06-42e9-4ed5-9002-8f5c1a331c3a",
   "metadata": {},
   "source": [
    "## Object Oriented Programming in Python\n",
    "\n",
    "Main concept of objecct oriented programming is to bind the data and procedure that work on together as a single unit so that other functions / code cannot access the data. Object oriented programming uses objects and classes in programming. Using OOPS we aim to implement entities like Inheritence, Abstraction, Encapsulation and Polymorphism.\n",
    "\n",
    "Objects consists of data and methods. Object data are its properties -> Define what it is. Object methods are its functions -> Defines what it can do.\n",
    "\n",
    "OOPS concepts are very closely related to real world concepts. \n",
    "\n",
    "OOPS is centered around two concepts -> Class and Objects\n",
    "\n",
    "Class is like blueprint and Object is the instantitation of the class. For example, we can consider blueprint of a house as Class and actual house as object"
   ]
  },
  {
   "cell_type": "code",
   "execution_count": null,
   "id": "f0460c0f-a61a-4bb3-a074-6eb5bdb55770",
   "metadata": {},
   "outputs": [],
   "source": []
  }
 ],
 "metadata": {
  "kernelspec": {
   "display_name": "Python 3 (ipykernel)",
   "language": "python",
   "name": "python3"
  },
  "language_info": {
   "codemirror_mode": {
    "name": "ipython",
    "version": 3
   },
   "file_extension": ".py",
   "mimetype": "text/x-python",
   "name": "python",
   "nbconvert_exporter": "python",
   "pygments_lexer": "ipython3",
   "version": "3.11.0rc1"
  }
 },
 "nbformat": 4,
 "nbformat_minor": 5
}
