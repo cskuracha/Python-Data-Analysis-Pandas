{
 "cells": [
  {
   "cell_type": "markdown",
   "id": "61f436d4-271d-4c5c-90db-60600e2c2ffa",
   "metadata": {},
   "source": [
    "## **OOPS Practice Problems**"
   ]
  },
  {
   "cell_type": "markdown",
   "id": "a68db269-b963-4e67-a4f2-b94fd3b3efb2",
   "metadata": {},
   "source": [
    "###  Write a Python program to create a class representing a Circle. Include methods to calculate its area and perimeter."
   ]
  },
  {
   "cell_type": "code",
   "execution_count": 1,
   "id": "7db15e30-a81a-4602-9cc9-54c41307f0b0",
   "metadata": {},
   "outputs": [],
   "source": [
    "from math import pi"
   ]
  },
  {
   "cell_type": "code",
   "execution_count": 10,
   "id": "11977fef-1752-429e-ab50-e9fe78ad0875",
   "metadata": {},
   "outputs": [],
   "source": [
    "class Circle:\n",
    "    def __init__(self, radius):\n",
    "        \"\"\"Constructor for Circle Class\"\"\"\n",
    "        self.__radius = radius\n",
    "\n",
    "    @property\n",
    "    def radius(self):\n",
    "        return self.__radius\n",
    "\n",
    "    @radius.setter\n",
    "    def radius(self, value):\n",
    "        \"\"\"Setter method to update the radius of circle\"\"\"\n",
    "        if isinstance(value, str):\n",
    "            raise Exception(\"Radius cannot be string\")\n",
    "        else:\n",
    "            self.__radius = value\n",
    "    \n",
    "    def compute_area_circle(self):\n",
    "        \"\"\"Method to compute area of a circle\"\"\"\n",
    "        return pi * (self.__radius ** 2)\n",
    "\n",
    "    def compute_perimeter_circle(self):\n",
    "        \"\"\"Method to compute perimeter of a circle\"\"\"\n",
    "        return pi * 2 * self.__radius\n",
    "\n",
    "    def __repr__(self):\n",
    "        \"\"\"Function to override default representation\"\"\"\n",
    "        return f\"{self.__class__.__name__}({self.__radius})\"\n",
    "    \n",
    "    "
   ]
  },
  {
   "cell_type": "code",
   "execution_count": 13,
   "id": "52b5b01e-e1e9-4243-b345-5d55814f8573",
   "metadata": {},
   "outputs": [
    {
     "name": "stdout",
     "output_type": "stream",
     "text": [
      "Area of Circle:  314.1592653589793\n"
     ]
    }
   ],
   "source": [
    "# Instantiate Circle class\n",
    "c1 = Circle(10)\n",
    "\n",
    "# Printing Area of Circle\n",
    "print(\"Area of Circle: \",c1.compute_area_circle())"
   ]
  },
  {
   "cell_type": "code",
   "execution_count": 14,
   "id": "d70ec427-4f88-4dfb-bb0f-210a0f91efb7",
   "metadata": {},
   "outputs": [
    {
     "name": "stdout",
     "output_type": "stream",
     "text": [
      "Perimeter of a Circle:  62.83185307179586\n"
     ]
    }
   ],
   "source": [
    "# Computing Perimeter of a circle\n",
    "print(\"Perimeter of a Circle: \", c1.compute_perimeter_circle())"
   ]
  },
  {
   "cell_type": "code",
   "execution_count": 15,
   "id": "a269a553-1e12-4aed-9fef-784cd7107c88",
   "metadata": {},
   "outputs": [
    {
     "name": "stdout",
     "output_type": "stream",
     "text": [
      "Circle(10)\n"
     ]
    }
   ],
   "source": [
    "# Printing Circle Representation\n",
    "print(c1)"
   ]
  },
  {
   "cell_type": "code",
   "execution_count": null,
   "id": "8e3bf3a0-0eef-4781-8f0e-399bba87a693",
   "metadata": {},
   "outputs": [],
   "source": []
  }
 ],
 "metadata": {
  "kernelspec": {
   "display_name": "Python 3 (ipykernel)",
   "language": "python",
   "name": "python3"
  },
  "language_info": {
   "codemirror_mode": {
    "name": "ipython",
    "version": 3
   },
   "file_extension": ".py",
   "mimetype": "text/x-python",
   "name": "python",
   "nbconvert_exporter": "python",
   "pygments_lexer": "ipython3",
   "version": "3.11.0rc1"
  }
 },
 "nbformat": 4,
 "nbformat_minor": 5
}
