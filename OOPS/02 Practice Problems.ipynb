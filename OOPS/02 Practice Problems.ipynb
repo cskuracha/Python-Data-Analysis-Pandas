{
 "cells": [
  {
   "cell_type": "markdown",
   "id": "61f436d4-271d-4c5c-90db-60600e2c2ffa",
   "metadata": {},
   "source": [
    "## **OOPS Practice Problems**"
   ]
  },
  {
   "cell_type": "markdown",
   "id": "a68db269-b963-4e67-a4f2-b94fd3b3efb2",
   "metadata": {},
   "source": [
    "###  Write a Python program to create a class representing a Circle. Include methods to calculate its area and perimeter."
   ]
  },
  {
   "cell_type": "code",
   "execution_count": 1,
   "id": "7db15e30-a81a-4602-9cc9-54c41307f0b0",
   "metadata": {},
   "outputs": [],
   "source": [
    "from math import pi"
   ]
  },
  {
   "cell_type": "code",
   "execution_count": 2,
   "id": "11977fef-1752-429e-ab50-e9fe78ad0875",
   "metadata": {},
   "outputs": [],
   "source": [
    "class Circle:\n",
    "\n",
    "    objects = []\n",
    "\n",
    "    @classmethod\n",
    "    def circles_initiated(cls):\n",
    "        \"\"\"Function to return number of circles initiated\"\"\"\n",
    "        return len(Circle.objects)\n",
    "    \n",
    "    def __init__(self, radius):\n",
    "        \"\"\"Constructor for Circle Class\"\"\"\n",
    "        self.__radius = radius\n",
    "        Circle.objects.append(self)\n",
    "\n",
    "    @property\n",
    "    def radius(self):\n",
    "        return self.__radius\n",
    "\n",
    "    @radius.setter\n",
    "    def radius(self, value):\n",
    "        \"\"\"Setter method to update the radius of circle\"\"\"\n",
    "        if isinstance(value, str):\n",
    "            raise Exception(\"Radius cannot be string\")\n",
    "        else:\n",
    "            self.__radius = value\n",
    "    \n",
    "    def compute_area_circle(self):\n",
    "        \"\"\"Method to compute area of a circle - PI * R ** 2\"\"\"\n",
    "        return pi * (self.__radius ** 2)\n",
    "\n",
    "    def compute_perimeter_circle(self):\n",
    "        \"\"\"Method to compute perimeter of a circle - 2 * PI * R\"\"\"\n",
    "        return pi * 2 * self.__radius\n",
    "\n",
    "    \n",
    "\n",
    "    def __repr__(self):\n",
    "        \"\"\"Function to override default representation\"\"\"\n",
    "        return f\"{self.__class__.__name__}({self.__radius})\"\n",
    "    \n",
    "    "
   ]
  },
  {
   "cell_type": "code",
   "execution_count": 3,
   "id": "52b5b01e-e1e9-4243-b345-5d55814f8573",
   "metadata": {},
   "outputs": [
    {
     "name": "stdout",
     "output_type": "stream",
     "text": [
      "Area of Circle:  314.1592653589793\n"
     ]
    }
   ],
   "source": [
    "# Instantiate Circle class\n",
    "c1 = Circle(10)\n",
    "\n",
    "# Printing Area of Circle\n",
    "print(\"Area of Circle: \",c1.compute_area_circle())"
   ]
  },
  {
   "cell_type": "code",
   "execution_count": 4,
   "id": "d70ec427-4f88-4dfb-bb0f-210a0f91efb7",
   "metadata": {},
   "outputs": [
    {
     "name": "stdout",
     "output_type": "stream",
     "text": [
      "Perimeter of a Circle:  62.83185307179586\n"
     ]
    }
   ],
   "source": [
    "# Computing Perimeter of a circle\n",
    "print(\"Perimeter of a Circle: \", c1.compute_perimeter_circle())"
   ]
  },
  {
   "cell_type": "code",
   "execution_count": 5,
   "id": "a269a553-1e12-4aed-9fef-784cd7107c88",
   "metadata": {},
   "outputs": [
    {
     "name": "stdout",
     "output_type": "stream",
     "text": [
      "Circle(10)\n"
     ]
    }
   ],
   "source": [
    "# Printing Circle Representation\n",
    "print(c1)"
   ]
  },
  {
   "cell_type": "markdown",
   "id": "bf4d2865-aea9-430d-a611-de1eea71f43a",
   "metadata": {},
   "source": [
    "#### Updating the radius"
   ]
  },
  {
   "cell_type": "code",
   "execution_count": 6,
   "id": "d5d07e14-8651-4e06-b6a9-3e5d3494118f",
   "metadata": {},
   "outputs": [],
   "source": [
    "try:\n",
    "    c1.radius = 12\n",
    "except TypeError:\n",
    "    print(\"Cannot directly update radius\")"
   ]
  },
  {
   "cell_type": "code",
   "execution_count": 7,
   "id": "c1b8aff6-c9df-4ad5-8933-969d4fcee5b8",
   "metadata": {},
   "outputs": [
    {
     "name": "stdout",
     "output_type": "stream",
     "text": [
      "Updated Radius value is  12\n"
     ]
    }
   ],
   "source": [
    "print(\"Updated Radius value is \",c1.radius)"
   ]
  },
  {
   "cell_type": "code",
   "execution_count": 8,
   "id": "5c677beb-7cff-4a29-80c5-5fb0bf66ce0f",
   "metadata": {},
   "outputs": [
    {
     "name": "stdout",
     "output_type": "stream",
     "text": [
      "Area of Circle:  452.3893421169302\n",
      "Perimeter of a Circle:  75.39822368615503\n",
      "Circle(12)\n"
     ]
    }
   ],
   "source": [
    "# Printing Area of Circle\n",
    "print(\"Area of Circle: \",c1.compute_area_circle())\n",
    "\n",
    "# Computing Perimeter of a circle\n",
    "print(\"Perimeter of a Circle: \", c1.compute_perimeter_circle())\n",
    "\n",
    "# Printing Circle Representation\n",
    "print(c1)"
   ]
  },
  {
   "cell_type": "code",
   "execution_count": 9,
   "id": "0f646a33-7b22-4ad0-82da-ded81d939c7b",
   "metadata": {},
   "outputs": [
    {
     "name": "stdout",
     "output_type": "stream",
     "text": [
      "1\n"
     ]
    }
   ],
   "source": [
    "# Printing the Number of circles initiated\n",
    "print(Circle.circles_initiated())"
   ]
  },
  {
   "cell_type": "code",
   "execution_count": 10,
   "id": "09c1862d-a533-481c-8881-6c5a6f962dab",
   "metadata": {},
   "outputs": [
    {
     "name": "stdout",
     "output_type": "stream",
     "text": [
      "[Circle(12)]\n"
     ]
    }
   ],
   "source": [
    "print(Circle.objects)"
   ]
  },
  {
   "cell_type": "code",
   "execution_count": 11,
   "id": "7f9c694e-6479-40e3-8ce9-0ba45cb75387",
   "metadata": {},
   "outputs": [],
   "source": [
    "c2 = Circle(25)"
   ]
  },
  {
   "cell_type": "code",
   "execution_count": 12,
   "id": "a961f911-6b5d-40cd-8d2c-70b027460a05",
   "metadata": {},
   "outputs": [
    {
     "name": "stdout",
     "output_type": "stream",
     "text": [
      "2\n"
     ]
    }
   ],
   "source": [
    "# Printing the Number of circles initiated\n",
    "print(Circle.circles_initiated())"
   ]
  },
  {
   "cell_type": "code",
   "execution_count": 13,
   "id": "d42cfda6-8530-4277-8937-71d34bd4a63b",
   "metadata": {},
   "outputs": [
    {
     "name": "stdout",
     "output_type": "stream",
     "text": [
      "[Circle(12), Circle(25)]\n"
     ]
    }
   ],
   "source": [
    "print(Circle.objects)"
   ]
  },
  {
   "cell_type": "code",
   "execution_count": null,
   "id": "783bbe07-3d86-4d2e-b332-e36dc1fc1077",
   "metadata": {},
   "outputs": [],
   "source": []
  }
 ],
 "metadata": {
  "kernelspec": {
   "display_name": "Python 3 (ipykernel)",
   "language": "python",
   "name": "python3"
  },
  "language_info": {
   "codemirror_mode": {
    "name": "ipython",
    "version": 3
   },
   "file_extension": ".py",
   "mimetype": "text/x-python",
   "name": "python",
   "nbconvert_exporter": "python",
   "pygments_lexer": "ipython3",
   "version": "3.11.0rc1"
  }
 },
 "nbformat": 4,
 "nbformat_minor": 5
}
