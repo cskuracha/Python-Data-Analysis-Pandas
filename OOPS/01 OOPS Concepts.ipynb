{
 "cells": [
  {
   "cell_type": "markdown",
   "id": "78f27b06-42e9-4ed5-9002-8f5c1a331c3a",
   "metadata": {},
   "source": [
    "## Object Oriented Programming in Python\n",
    "\n",
    "Main concept of objecct oriented programming is to bind the data and procedure that work on together as a single unit so that other functions / code cannot access the data. Object oriented programming uses objects and classes in programming. Using OOPS we aim to implement entities like Inheritence, Abstraction, Encapsulation and Polymorphism.\n",
    "\n",
    "Objects consists of data and methods. Object data are its properties -> Define what it is. Object methods are its functions -> Defines what it can do.\n",
    "\n",
    "OOPS concepts are very closely related to real world concepts. \n",
    "\n",
    "OOPS is centered around two concepts -> Class and Objects\n",
    "\n",
    "Class is like blueprint and Object is the instantitation of the class. For example, we can consider blueprint of a house as Class and actual house as object"
   ]
  },
  {
   "cell_type": "markdown",
   "id": "c7d994a2-edaf-49bd-a1e1-c6a642185d39",
   "metadata": {},
   "source": [
    "### Step 1:\n",
    "\n",
    "From the below data, it is observed that name, account, balance and branch are related to one particular customer. \\\n",
    "These are acceessible across the file and are not encapsulated.\\\n",
    "Also, note that type of these variables are type string and int respectively"
   ]
  },
  {
   "cell_type": "code",
   "execution_count": 1,
   "id": "c7c80c61-9d45-4a9f-b0da-69eeac410f46",
   "metadata": {},
   "outputs": [
    {
     "name": "stdout",
     "output_type": "stream",
     "text": [
      "<class 'str'>\n",
      "<class 'str'>\n",
      "<class 'int'>\n",
      "<class 'str'>\n"
     ]
    }
   ],
   "source": [
    "class Customer:\n",
    "    pass\n",
    "\n",
    "\n",
    "cust1_name = \"Chaitanya\"\n",
    "cust1_account = \"Savings\"\n",
    "cust1_balance = 1000\n",
    "cust1_branch = \"Hyderabad\"\n",
    "\n",
    "print(type(cust1_name))\n",
    "print(type(cust1_account))\n",
    "print(type(cust1_balance))\n",
    "print(type(cust1_branch))"
   ]
  },
  {
   "cell_type": "markdown",
   "id": "7de0d6e2-bfae-4943-b3cf-6074f7cc423f",
   "metadata": {},
   "source": [
    "### Step 2:\n",
    "Moving the attributes to  Customer class"
   ]
  },
  {
   "cell_type": "code",
   "execution_count": 2,
   "id": "4ab2165f-0a62-4ab9-8c20-41d28179071b",
   "metadata": {},
   "outputs": [
    {
     "name": "stdout",
     "output_type": "stream",
     "text": [
      "Chaitanya Savings 1000 Hyderabad\n",
      "<class 'str'> <class 'str'> <class 'int'> <class 'str'>\n"
     ]
    }
   ],
   "source": [
    "class Customer:\n",
    "    name = \"Chaitanya\"\n",
    "    account = \"Savings\"\n",
    "    balance = 1000\n",
    "    branch = \"Hyderabad\"\n",
    "\n",
    "# Initiating an object\n",
    "cust1 = Customer()\n",
    "\n",
    "# Printing the object attributes\n",
    "print(cust1.name, cust1.account, cust1.balance, cust1.branch)\n",
    "# Printing the type of attributes\n",
    "print(type(cust1.name), type(cust1.account), type(cust1.balance), type(cust1.branch))"
   ]
  },
  {
   "cell_type": "markdown",
   "id": "55ba848d-5647-4308-9dc7-6ead004f0061",
   "metadata": {},
   "source": [
    "### Step 3:\n",
    "Creating a magic method called __init__, a constructor, which will be called during class initialization"
   ]
  },
  {
   "cell_type": "code",
   "execution_count": 3,
   "id": "840bcb79-51f8-47d9-bdd7-34f00b1ee82c",
   "metadata": {},
   "outputs": [
    {
     "name": "stdout",
     "output_type": "stream",
     "text": [
      "This method will call when class is initiated\n",
      "Chaitanya Savings 1000 Hyderabad\n",
      "<class 'str'> <class 'str'> <class 'int'> <class 'str'>\n"
     ]
    }
   ],
   "source": [
    "class Customer:\n",
    "\n",
    "    def __init__(self):\n",
    "        print(\"This method will call when class is initiated\")\n",
    "        \n",
    "    name = \"Chaitanya\"\n",
    "    account = \"Savings\"\n",
    "    balance = 1000\n",
    "    branch = \"Hyderabad\"\n",
    "\n",
    "# Initiating an object\n",
    "cust1 = Customer()\n",
    "\n",
    "# Printing the object attributes\n",
    "print(cust1.name, cust1.account, cust1.balance, cust1.branch)\n",
    "# Printing the type of attributes\n",
    "print(type(cust1.name), type(cust1.account), type(cust1.balance), type(cust1.branch))"
   ]
  },
  {
   "cell_type": "markdown",
   "id": "75fb5036-82f1-44e7-9882-01a07731ccdc",
   "metadata": {},
   "source": [
    "### Step 4:\n",
    "Creating an object with initial attributes"
   ]
  },
  {
   "cell_type": "code",
   "execution_count": 5,
   "id": "9faf20ea-5345-4179-b462-9fc80d7753d3",
   "metadata": {},
   "outputs": [
    {
     "name": "stdout",
     "output_type": "stream",
     "text": [
      "Chaitanya Savings 1000 Hyderabad\n",
      "<class 'str'> <class 'str'> <class 'int'> <class 'str'>\n"
     ]
    }
   ],
   "source": [
    "class Customer:\n",
    "\n",
    "    def __init__(self, name, account, balance = 0, branch = \"\"):\n",
    "        self.name = name\n",
    "        self.account = account\n",
    "        self.balance = balance\n",
    "        self.branch = branch\n",
    "\n",
    "# Initiating an object\n",
    "cust1 = Customer(\"Chaitanya\", \"Savings\", 1000, \"Hyderabad\")\n",
    "\n",
    "# Printing the object attributes\n",
    "print(cust1.name, cust1.account, cust1.balance, cust1.branch)\n",
    "# Printing the type of attributes\n",
    "print(type(cust1.name), type(cust1.account), type(cust1.balance), type(cust1.branch))"
   ]
  },
  {
   "cell_type": "markdown",
   "id": "0fe770ef-19c3-4cdf-9e68-0b6983ca6fb0",
   "metadata": {},
   "source": [
    "### Step 5:\n",
    "trying to Updating the attribute outside of the class"
   ]
  },
  {
   "cell_type": "code",
   "execution_count": 6,
   "id": "56f95131-4088-42f8-817a-320e1beae7ad",
   "metadata": {},
   "outputs": [
    {
     "name": "stdout",
     "output_type": "stream",
     "text": [
      "This method will call when class is initiated\n",
      "Chaitanya Savings 1000 Hyderabad\n",
      "Chaitanya Sagar Savings 1000 Hyderabad\n"
     ]
    }
   ],
   "source": [
    "class Customer:\n",
    "\n",
    "    def __init__(self, name, account, balance = 0, branch = \"\"):\n",
    "        print(\"This method will call when class is initiated\")\n",
    "        self.name = name\n",
    "        self.account = account\n",
    "        self.balance = balance\n",
    "        self.branch = branch\n",
    "\n",
    "# Initiating an object\n",
    "cust1 = Customer(\"Chaitanya\", \"Savings\", 1000, \"Hyderabad\")\n",
    "\n",
    "# Printing the object attributes\n",
    "print(cust1.name, cust1.account, cust1.balance, cust1.branch)\n",
    "\n",
    "cust1.name = \"Chaitanya Sagar\"\n",
    "\n",
    "# Printing the object attributes after update\n",
    "print(cust1.name, cust1.account, cust1.balance, cust1.branch)"
   ]
  },
  {
   "cell_type": "markdown",
   "id": "855072b2-8950-449a-8aab-4530f7437dba",
   "metadata": {},
   "source": [
    "### Step 6: \n",
    "\n",
    "Creating a classmethod to read customer details from CSV file"
   ]
  },
  {
   "cell_type": "code",
   "execution_count": 9,
   "id": "3c8f889f-94db-4624-9f26-44cb5ea4688a",
   "metadata": {},
   "outputs": [
    {
     "name": "stdout",
     "output_type": "stream",
     "text": [
      "        name      account   balance        branch\n",
      "0  Chaitanya    \"Savings\"      1000   \"Hyderabad\"\n",
      "1        Ram    \"Savings\"      2000      \"Mumbai\"\n",
      "2    Krishna    \"Current\"      1500      \"Mumbai\"\n",
      "3      Anand   \"Business\"      2000       \"Delhi\"\n",
      "This method will call when class is initiated\n",
      "Chaitanya Savings 1000 Hyderabad\n",
      "Chaitanya Sagar Savings 1000 Hyderabad\n"
     ]
    }
   ],
   "source": [
    "import pandas as pd\n",
    "class Customer:\n",
    "\n",
    "    @classmethod\n",
    "    def read_customers_from_csv(cls):\n",
    "        data = pd.read_csv(\"Customer/customers.csv\", sep = \",\")\n",
    "        print(data)\n",
    "\n",
    "\n",
    "    def __init__(self, name, account, balance = 0, branch = \"\"):\n",
    "        print(\"This method will call when class is initiated\")\n",
    "        self.name = name\n",
    "        self.account = account\n",
    "        self.balance = balance\n",
    "        self.branch = branch\n",
    "    \n",
    "\n",
    "Customer.read_customers_from_csv()\n",
    "\n",
    "# Initiating an object\n",
    "cust1 = Customer(\"Chaitanya\", \"Savings\", 1000, \"Hyderabad\")\n",
    "\n",
    "# Printing the object attributes\n",
    "print(cust1.name, cust1.account, cust1.balance, cust1.branch)\n",
    "\n",
    "cust1.name = \"Chaitanya Sagar\"\n",
    "\n",
    "# Printing the object attributes after update\n",
    "print(cust1.name, cust1.account, cust1.balance, cust1.branch)"
   ]
  },
  {
   "cell_type": "markdown",
   "id": "6f807e01-0acc-4e98-87ae-214bc131c526",
   "metadata": {},
   "source": [
    "### Step 7:\n",
    "After reading and creating objects using classmethod\n",
    "\n",
    "__ repr__ method will provide the representation of object"
   ]
  },
  {
   "cell_type": "code",
   "execution_count": 11,
   "id": "86716494-426e-4771-984c-0e76d6d36a71",
   "metadata": {},
   "outputs": [
    {
     "name": "stdout",
     "output_type": "stream",
     "text": [
      "This method will call when class is initiated\n",
      "This method will call when class is initiated\n",
      "This method will call when class is initiated\n",
      "This method will call when class is initiated\n",
      "This method will call when class is initiated\n",
      "Chaitanya Savings 1000 Hyderabad\n",
      "Chaitanya Sagar Savings 1000 Hyderabad\n"
     ]
    }
   ],
   "source": [
    "import pandas as pd\n",
    "class Customer:\n",
    "\n",
    "    @classmethod\n",
    "    def read_customers_from_csv(cls):\n",
    "        data = pd.read_csv(\"Customer/customers.csv\", sep = \",\")\n",
    "        #print(data)\n",
    "        #print(len(data), data.loc[0]['name'])\n",
    "        for i in range(len(data)):\n",
    "            Customer(\n",
    "                name = data.loc[i]['name'],\n",
    "                account = data.loc[i]['account'],\n",
    "                balance = data.loc[i]['balance'],\n",
    "                branch = data.loc[i]['branch']\n",
    "            )\n",
    "        #print(data.loc[0]['account'])\n",
    "    \n",
    "\n",
    "    def __init__(self, name, account, balance = 0, branch = \"\"):\n",
    "        print(\"This method will call when class is initiated\")\n",
    "        self.name = name\n",
    "        self.account = account\n",
    "        self.balance = balance\n",
    "        self.branch = branch\n",
    "\n",
    "    def __repr__(self):\n",
    "        return f\"{self.__class__.__name__}('{self.name}', '{self.account}', {self.balance}, '{self.branch}')\"\n",
    "    \n",
    "\n",
    "Customer.read_customers_from_csv()\n",
    "\n",
    "# Initiating an object\n",
    "cust1 = Customer(\"Chaitanya\", \"Savings\", 1000, \"Hyderabad\")\n",
    "\n",
    "# Printing the object attributes\n",
    "print(cust1.name, cust1.account, cust1.balance, cust1.branch)\n",
    "\n",
    "cust1.name = \"Chaitanya Sagar\"\n",
    "\n",
    "# Printing the object attributes after update\n",
    "print(cust1.name, cust1.account, cust1.balance, cust1.branch)"
   ]
  },
  {
   "cell_type": "code",
   "execution_count": 14,
   "id": "622454a6-73ae-4b1f-a47c-dab1d8e9bebf",
   "metadata": {},
   "outputs": [
    {
     "name": "stdout",
     "output_type": "stream",
     "text": [
      "[Customer('Chaitanya', 'Savings', 1000, 'Hyderabad'), Customer('Ram', 'Savings', 2000, 'Mumbai'), Customer('Krishna', 'Current', 1500, 'Mumbai'), Customer('Anand', 'Business', 2000, 'Delhi')]\n"
     ]
    }
   ],
   "source": [
    "import pandas as pd\n",
    "class Customer:\n",
    "\n",
    "    all = []\n",
    "    @classmethod\n",
    "    def read_customers_from_csv(cls):\n",
    "        data = pd.read_csv(\"Customer/customers.csv\", sep = \",\")\n",
    "        #print(data)\n",
    "        #print(len(data), data.loc[0]['name'])\n",
    "        for i in range(len(data)):\n",
    "            Customer(\n",
    "                name = data.loc[i]['name'],\n",
    "                account = data.loc[i]['account'],\n",
    "                balance = data.loc[i]['balance'],\n",
    "                branch = data.loc[i]['branch']\n",
    "            )\n",
    "        #print(all)    \n",
    "        #print(data.loc[0]['account'])\n",
    "    \n",
    "\n",
    "    def __init__(self, name, account, balance = 0, branch = \"\"):\n",
    "        \n",
    "        self.name = name\n",
    "        self.account = account\n",
    "        self.balance = balance\n",
    "        self.branch = branch\n",
    "\n",
    "        Customer.all.append(self)\n",
    "        \n",
    "\n",
    "    def __repr__(self):\n",
    "        return f\"{self.__class__.__name__}('{self.name}', '{self.account}', {self.balance}, '{self.branch}')\"\n",
    "    \n",
    "Customer.read_customers_from_csv()\n",
    "print(Customer.all)"
   ]
  },
  {
   "cell_type": "markdown",
   "id": "ac423c49-8547-4b59-833a-c70113abf8f6",
   "metadata": {},
   "source": [
    "### Step 8:\n",
    "**Class Variable**\n",
    "\n",
    "Added class variables for customer count and all"
   ]
  },
  {
   "cell_type": "code",
   "execution_count": 6,
   "id": "0f9c2d2b-9cd0-4483-bd4b-4937ac64ef44",
   "metadata": {},
   "outputs": [
    {
     "name": "stdout",
     "output_type": "stream",
     "text": [
      "[Customer('Chaitanya', 'Savings', 1000.0, 'Hyderabad'), Customer('Ram', 'Savings', 2000.0, 'Mumbai'), Customer('Krishna', 'Current', 1500.0, 'Mumbai'), Customer('Anand', 'Business', 2000.0, 'Delhi')]\n",
      "4\n"
     ]
    }
   ],
   "source": [
    "import pandas as pd\n",
    "class Customer:\n",
    "\n",
    "    all = []\n",
    "    customer_count = 0\n",
    "    @classmethod\n",
    "    def read_customers_from_csv(cls):\n",
    "        data = pd.read_csv(\"Customer/customers.csv\", sep = \",\")\n",
    "        #print(data)\n",
    "        #print(len(data), data.loc[0]['name'])\n",
    "        for i in range(len(data)):\n",
    "            Customer(\n",
    "                name = data.loc[i]['name'],\n",
    "                account = data.loc[i]['account'],\n",
    "                balance = float(data.loc[i]['balance']),\n",
    "                branch = data.loc[i]['branch']\n",
    "            )\n",
    "        #print(all)    \n",
    "        #print(data.loc[0]['account'])\n",
    "\n",
    "    def __init__(self, name, account, balance = 0, branch = \"\"):\n",
    "        #print(\"This method will call when class is initiated\")\n",
    "        self.name = name\n",
    "        self.account = account\n",
    "        self.balance = balance\n",
    "        self.branch = branch\n",
    "\n",
    "        Customer.all.append(self)\n",
    "        Customer.customer_count += 1\n",
    "        \n",
    "\n",
    "    def __repr__(self):\n",
    "        return f\"{self.__class__.__name__}('{self.name}', '{self.account}', {self.balance}, '{self.branch}')\"\n",
    "    \n",
    "Customer.read_customers_from_csv()\n",
    "print(Customer.all)\n",
    "print(Customer.customer_count)"
   ]
  },
  {
   "cell_type": "markdown",
   "id": "917c1ea4-59d4-40c3-80e4-8658dedc9e56",
   "metadata": {},
   "source": [
    "### Step 9:\n",
    "**Static Method**\n",
    "\n",
    "Added static method to check if balance is float"
   ]
  },
  {
   "cell_type": "code",
   "execution_count": 7,
   "id": "f5e063ce-9ba2-4b5c-9a9a-44e3e2612b6a",
   "metadata": {},
   "outputs": [
    {
     "name": "stdout",
     "output_type": "stream",
     "text": [
      "[Customer('Chaitanya', 'Savings', 1000.0, 'Hyderabad'), Customer('Ram', 'Savings', 2000.0, 'Mumbai'), Customer('Krishna', 'Current', 1500.0, 'Mumbai'), Customer('Anand', 'Business', 2000.0, 'Delhi')]\n",
      "4\n",
      "True\n"
     ]
    }
   ],
   "source": [
    "import pandas as pd\n",
    "class Customer:\n",
    "\n",
    "    all = []\n",
    "    customer_count = 0\n",
    "    @classmethod\n",
    "    def read_customers_from_csv(cls):\n",
    "        data = pd.read_csv(\"Customer/customers.csv\", sep = \",\")\n",
    "        #print(data)\n",
    "        #print(len(data), data.loc[0]['name'])\n",
    "        for i in range(len(data)):\n",
    "            Customer(\n",
    "                name = data.loc[i]['name'],\n",
    "                account = data.loc[i]['account'],\n",
    "                balance = float(data.loc[i]['balance']),\n",
    "                branch = data.loc[i]['branch']\n",
    "            )\n",
    "        #print(all)    \n",
    "        #print(data.loc[0]['account'])\n",
    "\n",
    "    @staticmethod\n",
    "    def is_float(balance):\n",
    "        \"\"\"Function to return if balance is float or not\"\"\"\n",
    "        if isinstance(balance, float):\n",
    "            return True\n",
    "        elif isinstance(balance, int):\n",
    "            return True\n",
    "        else:\n",
    "            return False\n",
    "\n",
    "    def __init__(self, name, account, balance = 0, branch = \"\"):\n",
    "        #print(\"This method will call when class is initiated\")\n",
    "        self.name = name\n",
    "        self.account = account\n",
    "        self.balance = balance\n",
    "        self.branch = branch\n",
    "\n",
    "        Customer.all.append(self)\n",
    "        Customer.customer_count += 1\n",
    "        \n",
    "\n",
    "    def __repr__(self):\n",
    "        return f\"{self.__class__.__name__}('{self.name}', '{self.account}', {self.balance}, '{self.branch}')\"\n",
    "    \n",
    "Customer.read_customers_from_csv()\n",
    "print(Customer.all)\n",
    "print(Customer.customer_count)\n",
    "print(Customer.is_float(Customer.all[0].balance))"
   ]
  },
  {
   "cell_type": "markdown",
   "id": "5750b9c1-9907-4b4c-805f-dd87fa9aee97",
   "metadata": {},
   "source": [
    "### Step 10:\n",
    "**Inheritance**\n",
    "\n",
    "Creating a child class for Savings"
   ]
  },
  {
   "cell_type": "code",
   "execution_count": 9,
   "id": "a7314947-e703-41a1-9aa6-e6e8c2ceda03",
   "metadata": {},
   "outputs": [],
   "source": [
    "import pandas as pd\n",
    "class Customer:\n",
    "\n",
    "    all = []\n",
    "    customer_count = 0\n",
    "    @classmethod\n",
    "    def read_customers_from_csv(cls):\n",
    "        data = pd.read_csv(\"Customer/customers.csv\", sep = \",\")\n",
    "        #print(data)\n",
    "        #print(len(data), data.loc[0]['name'])\n",
    "        for i in range(len(data)):\n",
    "            Customer(\n",
    "                name = data.loc[i]['name'],\n",
    "                account = data.loc[i]['account'],\n",
    "                balance = float(data.loc[i]['balance']),\n",
    "                branch = data.loc[i]['branch']\n",
    "            )\n",
    "        #print(all)    \n",
    "        #print(data.loc[0]['account'])\n",
    "\n",
    "    @staticmethod\n",
    "    def is_float(balance):\n",
    "        \"\"\"Function to return if balance is float or not\"\"\"\n",
    "        if isinstance(balance, float):\n",
    "            return True\n",
    "        elif isinstance(balance, int):\n",
    "            return True\n",
    "        else:\n",
    "            return False\n",
    "\n",
    "    def __init__(self, name, account, balance = 0, branch = \"\"):\n",
    "        #print(\"This method will call when class is initiated\")\n",
    "        self.name = name\n",
    "        self.account = account\n",
    "        self.balance = balance\n",
    "        self.branch = branch\n",
    "\n",
    "        Customer.all.append(self)\n",
    "        Customer.customer_count += 1\n",
    "        \n",
    "\n",
    "    def __repr__(self):\n",
    "        return f\"{self.__class__.__name__}('{self.name}', '{self.account}', {self.balance}, '{self.branch}')\"\n",
    "    \n",
    "#Customer.read_customers_from_csv()\n",
    "#print(Customer.all)\n",
    "#print(Customer.customer_count)\n",
    "#print(Customer.is_float(Customer.all[0].balance))"
   ]
  },
  {
   "cell_type": "code",
   "execution_count": 11,
   "id": "6326eea0-1b53-467d-8fb5-54de375272a6",
   "metadata": {},
   "outputs": [
    {
     "name": "stdout",
     "output_type": "stream",
     "text": [
      "[Customer('Chaitanya', 'Savings', 1000.0, 'Hyderabad'), Customer('Ram', 'Savings', 2000.0, 'Mumbai'), Customer('Krishna', 'Current', 1500.0, 'Mumbai'), Customer('Anand', 'Business', 2000.0, 'Delhi')]\n"
     ]
    }
   ],
   "source": [
    "#from customer import Customer\n",
    "\n",
    "Customer.read_customers_from_csv()\n",
    "print(Customer.all)"
   ]
  },
  {
   "cell_type": "code",
   "execution_count": null,
   "id": "c60dd56d-f196-4262-af78-58d867a1fcf6",
   "metadata": {},
   "outputs": [],
   "source": []
  }
 ],
 "metadata": {
  "kernelspec": {
   "display_name": "Python 3 (ipykernel)",
   "language": "python",
   "name": "python3"
  },
  "language_info": {
   "codemirror_mode": {
    "name": "ipython",
    "version": 3
   },
   "file_extension": ".py",
   "mimetype": "text/x-python",
   "name": "python",
   "nbconvert_exporter": "python",
   "pygments_lexer": "ipython3",
   "version": "3.11.0rc1"
  }
 },
 "nbformat": 4,
 "nbformat_minor": 5
}
