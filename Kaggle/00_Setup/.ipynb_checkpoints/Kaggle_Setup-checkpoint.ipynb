{
 "cells": [
  {
   "cell_type": "code",
   "execution_count": 1,
   "id": "bdd4c671-99e7-41bc-87e9-a2ec3c5fe503",
   "metadata": {},
   "outputs": [
    {
     "name": "stdout",
     "output_type": "stream",
     "text": [
      "Package                      Version\n",
      "---------------------------- -------------\n",
      "absl-py                      2.0.0\n",
      "anyio                        4.1.0\n",
      "argon2-cffi                  23.1.0\n",
      "argon2-cffi-bindings         21.2.0\n",
      "arrow                        1.3.0\n",
      "asttokens                    2.4.1\n",
      "astunparse                   1.6.3\n",
      "async-lru                    2.0.4\n",
      "attrs                        23.1.0\n",
      "Babel                        2.13.1\n",
      "beautifulsoup4               4.12.2\n",
      "bleach                       6.1.0\n",
      "blinker                      1.4\n",
      "cachetools                   5.3.2\n",
      "certifi                      2023.11.17\n",
      "cffi                         1.16.0\n",
      "charset-normalizer           3.3.2\n",
      "comm                         0.2.0\n",
      "contourpy                    1.2.0\n",
      "cryptography                 3.4.8\n",
      "cycler                       0.12.1\n",
      "dbus-python                  1.2.18\n",
      "debugpy                      1.8.0\n",
      "decorator                    5.1.1\n",
      "defusedxml                   0.7.1\n",
      "distro                       1.7.0\n",
      "executing                    2.0.1\n",
      "fastjsonschema               2.19.0\n",
      "flatbuffers                  23.5.26\n",
      "fonttools                    4.46.0\n",
      "fqdn                         1.5.1\n",
      "gast                         0.5.4\n",
      "google-auth                  2.25.1\n",
      "google-auth-oauthlib         1.1.0\n",
      "google-pasta                 0.2.0\n",
      "grpcio                       1.59.3\n",
      "h5py                         3.10.0\n",
      "httplib2                     0.20.2\n",
      "idna                         3.6\n",
      "importlib-metadata           4.6.4\n",
      "ipykernel                    6.27.1\n",
      "ipython                      8.18.1\n",
      "ipywidgets                   8.1.1\n",
      "isoduration                  20.11.0\n",
      "jedi                         0.19.1\n",
      "jeepney                      0.7.1\n",
      "Jinja2                       3.1.2\n",
      "json5                        0.9.14\n",
      "jsonpointer                  2.4\n",
      "jsonschema                   4.20.0\n",
      "jsonschema-specifications    2023.11.2\n",
      "jupyter                      1.0.0\n",
      "jupyter_client               8.6.0\n",
      "jupyter-console              6.6.3\n",
      "jupyter_core                 5.5.0\n",
      "jupyter-events               0.9.0\n",
      "jupyter-http-over-ws         0.0.8\n",
      "jupyter-lsp                  2.2.1\n",
      "jupyter_server               2.12.0\n",
      "jupyter_server_terminals     0.4.4\n",
      "jupyterlab                   4.0.9\n",
      "jupyterlab_pygments          0.3.0\n",
      "jupyterlab_server            2.25.2\n",
      "jupyterlab-widgets           3.0.9\n",
      "keras                        2.15.0\n",
      "keyring                      23.5.0\n",
      "kiwisolver                   1.4.5\n",
      "launchpadlib                 1.10.16\n",
      "lazr.restfulclient           0.14.4\n",
      "lazr.uri                     1.0.6\n",
      "libclang                     16.0.6\n",
      "Markdown                     3.5.1\n",
      "MarkupSafe                   2.1.3\n",
      "matplotlib                   3.8.2\n",
      "matplotlib-inline            0.1.6\n",
      "mistune                      3.0.2\n",
      "ml-dtypes                    0.2.0\n",
      "more-itertools               8.10.0\n",
      "nbclient                     0.9.0\n",
      "nbconvert                    7.12.0\n",
      "nbformat                     5.9.2\n",
      "nest-asyncio                 1.5.8\n",
      "notebook                     7.0.6\n",
      "notebook_shim                0.2.3\n",
      "numpy                        1.26.2\n",
      "oauthlib                     3.2.0\n",
      "opt-einsum                   3.3.0\n",
      "overrides                    7.4.0\n",
      "packaging                    23.2\n",
      "pandocfilters                1.5.0\n",
      "parso                        0.8.3\n",
      "pexpect                      4.9.0\n",
      "Pillow                       10.1.0\n",
      "pip                          23.3.1\n",
      "platformdirs                 4.1.0\n",
      "prometheus-client            0.19.0\n",
      "prompt-toolkit               3.0.41\n",
      "protobuf                     4.23.4\n",
      "psutil                       5.9.6\n",
      "ptyprocess                   0.7.0\n",
      "pure-eval                    0.2.2\n",
      "pyasn1                       0.5.1\n",
      "pyasn1-modules               0.3.0\n",
      "pycparser                    2.21\n",
      "Pygments                     2.17.2\n",
      "PyGObject                    3.42.1\n",
      "PyJWT                        2.3.0\n",
      "pyparsing                    2.4.7\n",
      "python-apt                   2.4.0+ubuntu2\n",
      "python-dateutil              2.8.2\n",
      "python-json-logger           2.0.7\n",
      "PyYAML                       6.0.1\n",
      "pyzmq                        25.1.2\n",
      "qtconsole                    5.5.1\n",
      "QtPy                         2.4.1\n",
      "referencing                  0.31.1\n",
      "requests                     2.31.0\n",
      "requests-oauthlib            1.3.1\n",
      "rfc3339-validator            0.1.4\n",
      "rfc3986-validator            0.1.1\n",
      "rpds-py                      0.13.2\n",
      "rsa                          4.9\n",
      "SecretStorage                3.3.1\n",
      "Send2Trash                   1.8.2\n",
      "setuptools                   69.0.2\n",
      "six                          1.16.0\n",
      "sniffio                      1.3.0\n",
      "soupsieve                    2.5\n",
      "stack-data                   0.6.3\n",
      "tensorboard                  2.15.1\n",
      "tensorboard-data-server      0.7.2\n",
      "tensorflow                   2.15.0.post1\n",
      "tensorflow-estimator         2.15.0\n",
      "tensorflow-io-gcs-filesystem 0.34.0\n",
      "termcolor                    2.4.0\n",
      "terminado                    0.18.0\n",
      "tinycss2                     1.2.1\n",
      "tornado                      6.4\n",
      "traitlets                    5.14.0\n",
      "types-python-dateutil        2.8.19.14\n",
      "typing_extensions            4.8.0\n",
      "uri-template                 1.3.0\n",
      "urllib3                      2.1.0\n",
      "wadllib                      1.3.6\n",
      "wcwidth                      0.2.12\n",
      "webcolors                    1.13\n",
      "webencodings                 0.5.1\n",
      "websocket-client             1.7.0\n",
      "Werkzeug                     3.0.1\n",
      "wheel                        0.42.0\n",
      "widgetsnbextension           4.0.9\n",
      "wrapt                        1.14.1\n",
      "zipp                         1.0.0\n",
      "Note: you may need to restart the kernel to use updated packages.\n"
     ]
    }
   ],
   "source": [
    "pip list"
   ]
  },
  {
   "cell_type": "code",
   "execution_count": 2,
   "id": "6127e268-5316-4033-93c0-a8c723e914ce",
   "metadata": {},
   "outputs": [
    {
     "name": "stdout",
     "output_type": "stream",
     "text": [
      "\n",
      "Usage:   \n",
      "  /usr/bin/python3 -m pip <command> [options]\n",
      "\n",
      "no such option: --upgrade\n",
      "Note: you may need to restart the kernel to use updated packages.\n"
     ]
    }
   ],
   "source": [
    "pip --upgrade pip"
   ]
  },
  {
   "cell_type": "code",
   "execution_count": 2,
   "id": "8053e4a3-a358-4f39-973b-9eee85968a42",
   "metadata": {},
   "outputs": [
    {
     "name": "stdout",
     "output_type": "stream",
     "text": [
      "--2023-12-04 11:16:53--  http://url_to_csv_file/\n",
      "Resolving url_to_csv_file (url_to_csv_file)... failed: Name or service not known.\n",
      "wget: unable to resolve host address ‘url_to_csv_file’\n"
     ]
    }
   ],
   "source": [
    "!wget 'url_to_csv_file'"
   ]
  },
  {
   "cell_type": "code",
   "execution_count": 3,
   "id": "ff40777f-37f4-4b30-9b35-e5a2985f14f2",
   "metadata": {},
   "outputs": [
    {
     "name": "stdout",
     "output_type": "stream",
     "text": [
      "Requirement already satisfied: kaggle in /usr/local/lib/python3.11/dist-packages (1.5.16)\n",
      "Requirement already satisfied: six>=1.10 in /usr/lib/python3/dist-packages (from kaggle) (1.16.0)\n",
      "Requirement already satisfied: certifi in /usr/local/lib/python3.11/dist-packages (from kaggle) (2023.11.17)\n",
      "Requirement already satisfied: python-dateutil in /usr/local/lib/python3.11/dist-packages (from kaggle) (2.8.2)\n",
      "Requirement already satisfied: requests in /usr/local/lib/python3.11/dist-packages (from kaggle) (2.31.0)\n",
      "Requirement already satisfied: tqdm in /usr/local/lib/python3.11/dist-packages (from kaggle) (4.66.1)\n",
      "Requirement already satisfied: python-slugify in /usr/local/lib/python3.11/dist-packages (from kaggle) (8.0.1)\n",
      "Requirement already satisfied: urllib3 in /usr/local/lib/python3.11/dist-packages (from kaggle) (2.1.0)\n",
      "Requirement already satisfied: bleach in /usr/local/lib/python3.11/dist-packages (from kaggle) (6.1.0)\n",
      "Requirement already satisfied: webencodings in /usr/local/lib/python3.11/dist-packages (from bleach->kaggle) (0.5.1)\n",
      "Requirement already satisfied: text-unidecode>=1.3 in /usr/local/lib/python3.11/dist-packages (from python-slugify->kaggle) (1.3)\n",
      "Requirement already satisfied: charset-normalizer<4,>=2 in /usr/local/lib/python3.11/dist-packages (from requests->kaggle) (3.3.2)\n",
      "Requirement already satisfied: idna<4,>=2.5 in /usr/local/lib/python3.11/dist-packages (from requests->kaggle) (3.4)\n",
      "\u001b[33mWARNING: Running pip as the 'root' user can result in broken permissions and conflicting behaviour with the system package manager. It is recommended to use a virtual environment instead: https://pip.pypa.io/warnings/venv\u001b[0m\u001b[33m\n",
      "\u001b[0mNote: you may need to restart the kernel to use updated packages.\n"
     ]
    }
   ],
   "source": [
    "pip install kaggle --upgrade"
   ]
  },
  {
   "cell_type": "code",
   "execution_count": 4,
   "id": "d45407ff-9485-4371-81cb-e69fb7aa34fe",
   "metadata": {},
   "outputs": [
    {
     "name": "stdout",
     "output_type": "stream",
     "text": [
      "Warning: Your Kaggle API key is readable by other users on this system! To fix this, you can run 'chmod 600 /root/.kaggle/kaggle.json'\n"
     ]
    }
   ],
   "source": [
    "import kaggle"
   ]
  },
  {
   "cell_type": "code",
   "execution_count": 13,
   "id": "ccd52d94-0979-46df-88bf-e972fbe3ffbd",
   "metadata": {},
   "outputs": [
    {
     "name": "stdout",
     "output_type": "stream",
     "text": [
      "Warning: Your Kaggle API key is readable by other users on this system! To fix this, you can run 'chmod 600 /root/.kaggle/kaggle.json'\n",
      "Downloading home-data-for-ml-course.zip to /MachineLearning/AppliedAINotes/Programming/Python/workspace/Kaggle/01_Intro_To_ML\n",
      "100%|█████████████████████████████████████████| 386k/386k [00:01<00:00, 391kB/s]\n",
      "100%|█████████████████████████████████████████| 386k/386k [00:01<00:00, 391kB/s]\n"
     ]
    }
   ],
   "source": [
    "!kaggle competitions download -c \"home-data-for-ml-course\""
   ]
  },
  {
   "cell_type": "code",
   "execution_count": 6,
   "id": "f9883c96-a098-4d9b-85a9-0f9b73a683b0",
   "metadata": {},
   "outputs": [
    {
     "name": "stdout",
     "output_type": "stream",
     "text": [
      "Warning: Your Kaggle API key is readable by other users on this system! To fix this, you can run 'chmod 600 /root/.kaggle/kaggle.json'\n",
      "ref                                                    title                                               size  lastUpdated          downloadCount  voteCount  usabilityRating  \n",
      "-----------------------------------------------------  -------------------------------------------------  -----  -------------------  -------------  ---------  ---------------  \n",
      "thedrcat/daigt-v2-train-dataset                        DAIGT V2 Train Dataset                              29MB  2023-11-16 01:38:36           1199        132  1.0              \n",
      "muhammadbinimran/housing-price-prediction-data         Housing Price Prediction Data                      763KB  2023-11-21 17:56:32           4613         89  1.0              \n",
      "carlmcbrideellis/llm-7-prompt-training-dataset         LLM: 7 prompt training dataset                      41MB  2023-11-15 07:32:56           1471        113  1.0              \n",
      "thedrcat/daigt-proper-train-dataset                    DAIGT Proper Train Dataset                         119MB  2023-11-05 14:03:25           1454        133  1.0              \n",
      "joebeachcapital/30000-spotify-songs                    30000 Spotify Songs                                  3MB  2023-11-01 06:06:43           9753        209  1.0              \n",
      "jacksondivakarr/laptop-price-prediction-dataset        Laptop Price Prediction Dataset                    119KB  2023-11-30 16:23:34            772         29  1.0              \n",
      "ddosad/auto-sales-data                                 Automobile Sales data                               79KB  2023-11-18 12:36:41           3797         69  1.0              \n",
      "nelgiriyewithana/world-educational-data                World Educational Data                               9KB  2023-11-04 06:10:17           7781        161  1.0              \n",
      "thedevastator/bank-term-deposit-predictions            Bank Term Deposit Predictions                      541KB  2023-11-30 14:37:39            816         28  1.0              \n",
      "sujaykapadnis/products-datasets                        Detailed Products Datasets                         100KB  2023-11-24 03:25:10           1060         26  1.0              \n",
      "maso0dahmed/video-games-data                           Video Games Data                                     5MB  2023-11-25 19:08:46           1195         35  1.0              \n",
      "alejopaullier/daigt-external-dataset                   DAIGT | External Dataset                             3MB  2023-10-31 19:11:35            999        122  0.7647059        \n",
      "nelgiriyewithana/australian-vehicle-prices             Australian Vehicle Prices                          582KB  2023-11-27 04:51:30           1083         44  1.0              \n",
      "prasad22/healthcare-dataset                            🩺Healthcare Dataset 🧪                              483KB  2023-10-31 11:30:58           6964        107  1.0              \n",
      "adampq/linkedin-jobs-machine-learning-data-set         LinkedIn Job Postings - Machine Learning Data Set   38MB  2023-11-28 17:18:04            399         24  1.0              \n",
      "jacksondivakarr/online-shopping-dataset                🛒 Online Shopping Dataset 📊📉📈                        5MB  2023-11-12 12:35:58           4017         74  1.0              \n",
      "asimislam/30-yrs-stock-market-data                     30 yrs Stock Market Data                           882KB  2023-11-29 20:18:02           1076         27  1.0              \n",
      "imtkaggleteam/life-expectancy                          Life Expectancy                                    730KB  2023-11-30 12:22:23            605         33  0.9411765        \n",
      "muhammadbinimran/covid-19-pandemic-data                COVID-19 Pandemic Data                              457B  2023-11-07 20:42:55           1000         24  0.9411765        \n",
      "everydaycodings/multi-platform-online-courses-dataset  Multi-Platform Online Courses Dataset                3MB  2023-11-26 08:11:49            791         24  1.0              \n"
     ]
    }
   ],
   "source": [
    "#kaggle datasets download -d thedevastator/netflix-imdb-scores\n",
    "!kaggle datasets list"
   ]
  },
  {
   "cell_type": "code",
   "execution_count": 5,
   "id": "5f3fefb6-58de-42b8-9da3-6960913219db",
   "metadata": {},
   "outputs": [
    {
     "name": "stdout",
     "output_type": "stream",
     "text": [
      "Warning: Your Kaggle API key is readable by other users on this system! To fix this, you can run 'chmod 600 /root/.kaggle/kaggle.json'\n",
      "ref                                                                               deadline             category            reward  teamCount  userHasEntered  \n",
      "--------------------------------------------------------------------------------  -------------------  ---------------  ---------  ---------  --------------  \n",
      "https://www.kaggle.com/competitions/llm-detect-ai-generated-text                  2024-01-22 23:59:00  Featured          $110,000       2100           False  \n",
      "https://www.kaggle.com/competitions/stanford-ribonanza-rna-folding                2023-12-07 23:59:00  Research          $100,000        747           False  \n",
      "https://www.kaggle.com/competitions/optiver-trading-at-the-close                  2023-12-20 23:59:00  Featured          $100,000       3905           False  \n",
      "https://www.kaggle.com/competitions/nfl-big-data-bowl-2024                        2024-01-08 23:59:00  Analytics         $100,000          0           False  \n",
      "https://www.kaggle.com/competitions/blood-vessel-segmentation                     2024-02-06 23:59:00  Research           $80,000        192           False  \n",
      "https://www.kaggle.com/competitions/linking-writing-processes-to-writing-quality  2024-01-09 23:59:00  Featured           $55,000       1254           False  \n",
      "https://www.kaggle.com/competitions/child-mind-institute-detect-sleep-states      2023-12-05 23:59:00  Featured           $50,000       1902           False  \n",
      "https://www.kaggle.com/competitions/UBC-OCEAN                                     2024-01-03 23:59:00  Research           $50,000        859           False  \n",
      "https://www.kaggle.com/competitions/predict-energy-behavior-of-prosumers          2024-01-31 23:59:00  Featured           $50,000        772           False  \n",
      "https://www.kaggle.com/competitions/playground-series-s3e26                       2024-01-01 23:59:00  Playground            Swag         57           False  \n",
      "https://www.kaggle.com/competitions/titanic                                       2030-01-01 00:00:00  Getting Started  Knowledge      16044            True  \n",
      "https://www.kaggle.com/competitions/house-prices-advanced-regression-techniques   2030-01-01 00:00:00  Getting Started  Knowledge       5076           False  \n",
      "https://www.kaggle.com/competitions/spaceship-titanic                             2030-01-01 00:00:00  Getting Started  Knowledge       2675           False  \n",
      "https://www.kaggle.com/competitions/digit-recognizer                              2030-01-01 00:00:00  Getting Started  Knowledge       1728           False  \n",
      "https://www.kaggle.com/competitions/nlp-getting-started                           2030-01-01 00:00:00  Getting Started  Knowledge       1079           False  \n",
      "https://www.kaggle.com/competitions/connectx                                      2030-01-01 00:00:00  Getting Started  Knowledge        202           False  \n",
      "https://www.kaggle.com/competitions/tpu-getting-started                           2030-06-03 23:59:00  Getting Started  Knowledge        150           False  \n",
      "https://www.kaggle.com/competitions/store-sales-time-series-forecasting           2030-06-30 23:59:00  Getting Started  Knowledge        717           False  \n",
      "https://www.kaggle.com/competitions/gan-getting-started                           2030-07-01 23:59:00  Getting Started  Knowledge         98           False  \n",
      "https://www.kaggle.com/competitions/contradictory-my-dear-watson                  2030-07-01 23:59:00  Getting Started  Knowledge         54           False  \n"
     ]
    }
   ],
   "source": [
    "!kaggle competitions list"
   ]
  },
  {
   "cell_type": "code",
   "execution_count": null,
   "id": "e45f40e4-7319-40ae-b802-a36c3405e91c",
   "metadata": {},
   "outputs": [],
   "source": []
  }
 ],
 "metadata": {
  "kernelspec": {
   "display_name": "Python 3 (ipykernel)",
   "language": "python",
   "name": "python3"
  },
  "language_info": {
   "codemirror_mode": {
    "name": "ipython",
    "version": 3
   },
   "file_extension": ".py",
   "mimetype": "text/x-python",
   "name": "python",
   "nbconvert_exporter": "python",
   "pygments_lexer": "ipython3",
   "version": "3.11.0rc1"
  }
 },
 "nbformat": 4,
 "nbformat_minor": 5
}
